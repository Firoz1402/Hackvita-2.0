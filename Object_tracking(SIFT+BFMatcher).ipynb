{
  "nbformat": 4,
  "nbformat_minor": 0,
  "metadata": {
    "colab": {
      "provenance": [],
      "authorship_tag": "ABX9TyN2DE+QIbnjet4SJLw9QBlt",
      "include_colab_link": true
    },
    "kernelspec": {
      "name": "python3",
      "display_name": "Python 3"
    },
    "language_info": {
      "name": "python"
    }
  },
  "cells": [
    {
      "cell_type": "markdown",
      "metadata": {
        "id": "view-in-github",
        "colab_type": "text"
      },
      "source": [
        "<a href=\"https://colab.research.google.com/github/ringerH/Hackvita-2.0/blob/main/Object_tracking(SIFT%2BBFMatcher).ipynb\" target=\"_parent\"><img src=\"https://colab.research.google.com/assets/colab-badge.svg\" alt=\"Open In Colab\"/></a>"
      ]
    },
    {
      "cell_type": "code",
      "source": [
        "import cv2\n",
        "\n",
        "print(\"Loading input image...\")\n",
        "input_image = cv2.imread('test2.jpg', cv2.IMREAD_GRAYSCALE)\n",
        "\n",
        "print(\"Loading video...\")\n",
        "cap = cv2.VideoCapture('test_video.mp4')\n",
        "\n",
        "sift = cv2.SIFT_create()\n",
        "\n",
        "keypoints_input, descriptors_input = sift.detectAndCompute(input_image, None)\n",
        "\n",
        "bf = cv2.BFMatcher()\n",
        "\n",
        "occurrences = 0\n",
        "occurrence_start = 0\n",
        "occurrence_duration = 0\n",
        "prev_matches = []\n",
        "\n",
        "while cap.isOpened():\n",
        "    ret, frame = cap.read()\n",
        "    if not ret:\n",
        "        print(\"End of video reached.\")\n",
        "        break\n",
        "\n",
        "    frame_gray = cv2.cvtColor(frame, cv2.COLOR_BGR2GRAY)\n",
        "\n",
        "    keypoints_frame, descriptors_frame = sift.detectAndCompute(frame_gray, None)\n",
        "\n",
        "    matches = bf.knnMatch(descriptors_input, descriptors_frame, k=2)\n",
        "\n",
        "    good_matches = []\n",
        "    for m, n in matches:\n",
        "        if m.distance < 0.75 * n.distance:\n",
        "            good_matches.append(m)\n",
        "\n",
        "    if len(good_matches) >= 6:\n",
        "        if not prev_matches:\n",
        "            occurrence_start = cap.get(cv2.CAP_PROP_POS_MSEC) / 1000\n",
        "            occurrences += 1\n",
        "\n",
        "        prev_matches = good_matches\n",
        "        occurrence_duration = (cap.get(cv2.CAP_PROP_POS_MSEC) / 1000) - occurrence_start\n",
        "    else:\n",
        "        if prev_matches:\n",
        "            print(f\"Occurrence {occurrences}: Start time: {occurrence_start:.2f}s, Duration: {occurrence_duration:.2f}s\")\n",
        "            prev_matches = []\n",
        "\n",
        "cap.release()\n",
        "cv2.destroyAllWindows()\n"
      ],
      "metadata": {
        "colab": {
          "base_uri": "https://localhost:8080/"
        },
        "id": "0ag2pzVHbKf3",
        "outputId": "fcd92f74-57cf-4d8b-cadb-13ea8ff95e57"
      },
      "execution_count": 38,
      "outputs": [
        {
          "output_type": "stream",
          "name": "stdout",
          "text": [
            "Loading input image...\n",
            "Loading video...\n",
            "Occurrence 1: Start time: 0.00s, Duration: 3.64s\n",
            "Occurrence 2: Start time: 29.76s, Duration: 5.08s\n",
            "End of video reached.\n"
          ]
        }
      ]
    }
  ]
}